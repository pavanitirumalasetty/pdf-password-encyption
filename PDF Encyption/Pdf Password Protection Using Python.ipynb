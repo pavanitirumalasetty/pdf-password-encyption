{
 "cells": [
  {
   "cell_type": "code",
   "execution_count": 1,
   "id": "34fdd701-2605-49ed-a5f6-517e47ccf9ff",
   "metadata": {},
   "outputs": [
    {
     "name": "stdout",
     "output_type": "stream",
     "text": [
      "Collecting PyPDF2\n",
      "  Downloading pypdf2-3.0.1-py3-none-any.whl.metadata (6.8 kB)\n",
      "Downloading pypdf2-3.0.1-py3-none-any.whl (232 kB)\n",
      "Installing collected packages: PyPDF2\n",
      "Successfully installed PyPDF2-3.0.1\n"
     ]
    }
   ],
   "source": [
    "!pip install PyPDF2"
   ]
  },
  {
   "cell_type": "code",
   "execution_count": 6,
   "id": "7b1a96d6-c122-4729-820a-d6bc023a41e7",
   "metadata": {},
   "outputs": [],
   "source": [
    "from PyPDF2 import PdfReader, PdfWriter"
   ]
  },
  {
   "cell_type": "code",
   "execution_count": 7,
   "id": "2b06ddba-1157-40ad-8ed6-44ee05961398",
   "metadata": {},
   "outputs": [],
   "source": [
    "\n",
    "# Open the current PDF\n",
    "file_pdf = PdfReader(\"HELLO.pdf\")\n",
    "\n",
    "# Create a PdfWriter object\n",
    "out_pdf = PdfWriter()"
   ]
  },
  {
   "cell_type": "code",
   "execution_count": 8,
   "id": "a2166459-895b-4636-b5f7-a991bfb653d0",
   "metadata": {},
   "outputs": [
    {
     "data": {
      "text/plain": [
       "<PyPDF2._reader.PdfReader at 0x2d7016e9e80>"
      ]
     },
     "execution_count": 8,
     "metadata": {},
     "output_type": "execute_result"
    }
   ],
   "source": [
    "file_pdf"
   ]
  },
  {
   "cell_type": "code",
   "execution_count": 12,
   "id": "ee940b2d-754d-48ae-a974-188da3e4d5d1",
   "metadata": {},
   "outputs": [],
   "source": [
    "# Loop through pages\n",
    "for i in range(len(file_pdf.pages)):  # Using len(reader.pages) instead of numPages\n",
    "    page_details = file_pdf.pages[i]  # Using pages[i] instead of getPage(i)\n",
    "    \n",
    "    # Add to the output PDF\n",
    "    out_pdf.add_page(page_details)"
   ]
  },
  {
   "cell_type": "code",
   "execution_count": 13,
   "id": "72f3c28d-6f61-4fc0-8f08-01b56a68edee",
   "metadata": {},
   "outputs": [],
   "source": [
    "password=\"pavani@123\"\n",
    "\n",
    "out_pdf.encrypt(password)"
   ]
  },
  {
   "cell_type": "code",
   "execution_count": 18,
   "id": "250ed434-61f4-48be-af07-b97ec3eaff70",
   "metadata": {},
   "outputs": [],
   "source": [
    "# Save the output PDF\n",
    "with open(\"encrypted Hello.pdf\", \"wb\") as output_file:\n",
    "    out_pdf.write(output_file)"
   ]
  },
  {
   "cell_type": "code",
   "execution_count": null,
   "id": "7495da49-33a7-475f-86e6-22c36b1e4909",
   "metadata": {},
   "outputs": [],
   "source": []
  }
 ],
 "metadata": {
  "kernelspec": {
   "display_name": "Python 3 (ipykernel)",
   "language": "python",
   "name": "python3"
  },
  "language_info": {
   "codemirror_mode": {
    "name": "ipython",
    "version": 3
   },
   "file_extension": ".py",
   "mimetype": "text/x-python",
   "name": "python",
   "nbconvert_exporter": "python",
   "pygments_lexer": "ipython3",
   "version": "3.13.1"
  }
 },
 "nbformat": 4,
 "nbformat_minor": 5
}
